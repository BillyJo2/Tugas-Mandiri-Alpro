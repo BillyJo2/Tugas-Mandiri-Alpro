{
 "cells": [
  {
   "cell_type": "code",
   "execution_count": 1,
   "id": "046806fb-dd4a-41cf-89fd-97e478f37352",
   "metadata": {
    "tags": []
   },
   "outputs": [
    {
     "name": "stdin",
     "output_type": "stream",
     "text": [
      "Masukkan tinggi badan Anda (dalam meter):  165\n",
      "Masukkan nilai BMI yang diharapkan:  60\n"
     ]
    },
    {
     "name": "stdout",
     "output_type": "stream",
     "text": [
      "Berat badan yang diperlukan: 1633500.0 kg\n"
     ]
    }
   ],
   "source": [
    "#Soal nomor 1\n",
    "tinggi_badan = float(input(\"Masukkan tinggi badan Anda (dalam meter): \"))\n",
    "bmi_diharapkan = float(input(\"Masukkan nilai BMI yang diharapkan: \"))\n",
    "\n",
    "berat_diperlukan = bmi_diharapkan * tinggi_badan ** 2\n",
    "\n",
    "print(\"Berat badan yang diperlukan:\", berat_diperlukan, \"kg\")"
   ]
  },
  {
   "cell_type": "code",
   "execution_count": 2,
   "id": "1e97f1ee-034d-45cf-80b5-cf27596db4d0",
   "metadata": {
    "tags": []
   },
   "outputs": [
    {
     "name": "stdin",
     "output_type": "stream",
     "text": [
      "Masukkan nilai x (bilangan bulat):  6\n"
     ]
    },
    {
     "name": "stdout",
     "output_type": "stream",
     "text": [
      "Hasil dari fungsi f(x) adalah: 446.5\n"
     ]
    }
   ],
   "source": [
    "#Soal nomor 2\n",
    "x = int(input(\"Masukkan nilai x (bilangan bulat): \"))\n",
    "\n",
    "print(\"Hasil dari fungsi f(x) adalah:\", 2 * x**3 + 2 * x + 15 / x)"
   ]
  },
  {
   "cell_type": "code",
   "execution_count": 3,
   "id": "61a32f2b-d52f-4675-a7a0-9c2d3f1bf28b",
   "metadata": {
    "tags": []
   },
   "outputs": [
    {
     "name": "stdin",
     "output_type": "stream",
     "text": [
      "Masukkan gaji per jam yang Anda inginkan:  500000\n",
      "Masukkan jumlah jam kerja per minggu:  5\n"
     ]
    },
    {
     "name": "stdout",
     "output_type": "stream",
     "text": [
      "1. Pendapatan Budi sebelum pajak: 12500000.0\n",
      "2. Pendapatan Budi setelah pajak: 10750000.0\n",
      "3. Pengeluaran untuk membeli pakaian dan aksesoris: 1075000.0\n",
      "4. Pengeluaran untuk membeli alat tulis: 107500.0\n",
      "5. Jumlah uang yang akan disedekahkan: 2391875.0\n",
      "6. Jumlah uang yang akan diterima anak yatim: 717562.5\n",
      "7. Jumlah uang yang akan diterima kaum dhuafa: 1674312.5\n"
     ]
    }
   ],
   "source": [
    "#Soal nomor 3\n",
    "gaji_per_jam = float(input(\"Masukkan gaji per jam yang Anda inginkan: \"))\n",
    "jam_kerja_per_minggu = float(input(\"Masukkan jumlah jam kerja per minggu: \"))\n",
    "\n",
    "pendapatan_sebelum_pajak = gaji_per_jam * jam_kerja_per_minggu * 5\n",
    "\n",
    "pajak = 0.14 \n",
    "pendapatan_setelah_pajak = pendapatan_sebelum_pajak * (1 - pajak)\n",
    "\n",
    "pengeluaran_pakaian = 0.1 * pendapatan_setelah_pajak\n",
    "pengeluaran_alat_tulis = 0.01 * pendapatan_setelah_pajak\n",
    "\n",
    "sedekah = 0.25 * (pendapatan_setelah_pajak - pengeluaran_pakaian - pengeluaran_alat_tulis)\n",
    "\n",
    "sedekah_anak_yatim = 0.3 * sedekah\n",
    "sedekah_dhuafa = 0.7 * sedekah\n",
    "\n",
    "print(\"1. Pendapatan Budi sebelum pajak:\", pendapatan_sebelum_pajak)\n",
    "print(\"2. Pendapatan Budi setelah pajak:\", pendapatan_setelah_pajak)\n",
    "print(\"3. Pengeluaran untuk membeli pakaian dan aksesoris:\", pengeluaran_pakaian)\n",
    "print(\"4. Pengeluaran untuk membeli alat tulis:\", pengeluaran_alat_tulis)\n",
    "print(\"5. Jumlah uang yang akan disedekahkan:\", sedekah)\n",
    "print(\"6. Jumlah uang yang akan diterima anak yatim:\", sedekah_anak_yatim)\n",
    "print(\"7. Jumlah uang yang akan diterima kaum dhuafa:\", sedekah_dhuafa)"
   ]
  },
  {
   "cell_type": "code",
   "execution_count": null,
   "id": "86533faf-87f9-4261-a107-0afa598e1d4b",
   "metadata": {},
   "outputs": [],
   "source": []
  }
 ],
 "metadata": {
  "kernelspec": {
   "display_name": "Python 3 (ipykernel)",
   "language": "python",
   "name": "python3"
  },
  "language_info": {
   "codemirror_mode": {
    "name": "ipython",
    "version": 3
   },
   "file_extension": ".py",
   "mimetype": "text/x-python",
   "name": "python",
   "nbconvert_exporter": "python",
   "pygments_lexer": "ipython3",
   "version": "3.11.5"
  }
 },
 "nbformat": 4,
 "nbformat_minor": 5
}
